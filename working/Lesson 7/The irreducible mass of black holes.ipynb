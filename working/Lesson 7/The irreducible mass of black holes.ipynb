{
 "cells": [
  {
   "cell_type": "markdown",
   "metadata": {},
   "source": [
    "## The irreducible mass of black holes.\n",
    "\n",
    "Consider a rotating black hole. In [1969](https://ui.adsabs.harvard.edu/abs/1969NCimR...1..252P/abstract), Roger Penrose (now [Nobel Prize in Physics](https://www.nobelprize.org/prizes/physics/2020/penrose/facts/) for the theory of black holes) discovered that one can extract energy from a rotating black hole:\n",
    "\n",
    "![](https://inspirehep.net/files/268d28446b405e134199d84f67c23792)\n",
    "\n",
    "(figure from [Harada, Kimura 2014](https://ui.adsabs.harvard.edu/abs/2014CQGra..31x3001H/abstract)).\n",
    "\n",
    "Maybe some of you has seen this already in your GR class? In any case, a rotating black-hole has a region called ergosphere such that infalling particles have negative energy. Penrose imagined a particle that enters that region and decays: half will fall in and half will escape to infinity, carring some energy with it. In a nutshell, we've extracted energy=mass from a black hole! It turns out that one also has to extract angular momentum, not just energy (and here you'll need some GR do to this calculation, see e.g. the famous textbook by [Misner, Thorne and Weeler](https://press.princeton.edu/books/hardcover/9780691177793/gravitation)). But angular momentum runs out first, such that a repeated series of Penrose processes leaves behind a non-rotating BH with a remnant mass which is called \"irreducible\". This is a famous result by [Christodoulou 1970](https://journals.aps.org/prl/abstract/10.1103/PhysRevLett.25.1596) and is closely related to the even more famous area law by [Hawking (1971)](https://journals.aps.org/prl/abstract/10.1103/PhysRevLett.26.1344) (which in turns is the foundation of black-hole thermodynamics -- for you, my theorethical physics friend).\n",
    "\n",
    "\n",
    "For a BH of mass $M$ spin $\\chi\\in [0,1]$, the irreducible mass is \n",
    "\\begin{equation}\n",
    "M_{\\rm irr} = %\\sqrt{\\frac{M^2+\\sqrt{M^4-S^2}}{2}} = \n",
    " M \\sqrt{\\frac{1+\\sqrt{1-\\chi^2}}{2}}\n",
    "\\label{mirrdef}\n",
    "\\end{equation}\n",
    "For convenience, let us define \n",
    "\n",
    "$$f(\\chi) = \\sqrt{\\frac{1+\\sqrt{1-\\chi^2}}{2}} = \\frac{M_{\\rm irr}}{M}$$\n",
    "\n",
    "Suppose you have repeated measurments of $M$ and $\\chi$. This is just because we're still frequentists for now. When we will put our Bayesian hat on, these distributions will be the *posterior samples* from a single measurement.\n",
    "\n",
    "Let's assume that\n",
    "\n",
    "- the spin $\\chi$ is uniformly distributed between 0 and 1.\n",
    "- the mass $M$ is normally distributed with mean $\\mu$ and standard deviation $\\sigma$.\n",
    "\n",
    "These are simplistic assumption that, however, are not too far from what we are now measuring with gravitational-wave detectors. It's a toy model, but not a totally unreasonable one.\n",
    "\n",
    "\n"
   ]
  },
  {
   "cell_type": "code",
   "execution_count": 1,
   "metadata": {},
   "outputs": [],
   "source": [
    "import numpy as np\n",
    "from matplotlib import pyplot as plt\n",
    "\n",
    "import scipy.stats\n",
    "from scipy import optimize\n",
    "from scipy.stats import norm\n",
    "from scipy.stats import uniform\n",
    "\n",
    "from astroML import stats as astroMLstats\n",
    "from astropy.visualization.hist import hist as fancyhist\n",
    "\n",
    "from sklearn.neighbors import KernelDensity"
   ]
  },
  {
   "cell_type": "markdown",
   "metadata": {},
   "source": [
    "**Tasks**:\n",
    "\n",
    "1. Start with a value of $\\sigma=0.02$. Note that $\\mu$ is a scale and not a parameter: you can normalize all quantities with a dimension of mass by $\\mu$. Just set $\\mu=1$ in your code and remember that all masses in the problem are measured in units of $\\mu$. "
   ]
  },
  {
   "cell_type": "code",
   "execution_count": 42,
   "metadata": {},
   "outputs": [],
   "source": [
    "# define the function for M_irr:\n",
    "\n",
    "def M_irr(M,chi):\n",
    "    return M*np.sqrt((1+np.sqrt(1-chi**2))/2)\n",
    "\n",
    "def f(M,chi):\n",
    "    return M_irr(M,chi)/M"
   ]
  },
  {
   "cell_type": "code",
   "execution_count": 14,
   "metadata": {},
   "outputs": [],
   "source": [
    "N = 1000 # number of measurements\n",
    "\n",
    "# generate data for chi and M:\n",
    "chi_distr = np.random.uniform(0,1,N)\n",
    "\n",
    "mu = 1 # this is just a scale\n",
    "sigma = 0.02\n",
    "M_distr = np.random.normal(mu,sigma,N)\n",
    "\n",
    "# extract the M_irr distribution:\n",
    "M_irr_distr = []\n",
    "for M,chi in zip(M_distr,chi_distr):\n",
    "    M_irr_distr.append(M_irr(M,chi))\n",
    "    \n",
    "M_irr_distr_np = np.array(M_irr_distr)"
   ]
  },
  {
   "cell_type": "markdown",
   "metadata": {},
   "source": [
    "2. Plot the resulting pdf of $M_{\\rm irr}$. First try an histogram with one the rules of thumb we've seen above:\n",
    "\n",
    "**\"Scott's rule\"** suggests that the optimal bin width is \n",
    "\n",
    "$$\\Delta_b = \\frac{3.5\\sigma}{N^{1/3}}.$$\n",
    "\n",
    "That's great, but what if we don't know the standard deviation, $\\sigma$ (e.g., if the distribution isn't really Gaussian)?  \n",
    "\n",
    "We can then instead used the **\"Freedman-Diaconis rule\"**: \n",
    "\n",
    "$$\\Delta_b = \\frac{2(q_{75}-q_{25})}{N^{1/3}} = \\frac{2.7\\sigma_G}{N^{1/3}}.$$  \n",
    "\n",
    "*Hint*: You don't know the functional form of the pdf of $M_{\\rm irr}$... but you don't need it if you just want to generate samples! That's the nice thing about numerics!"
   ]
  },
  {
   "cell_type": "code",
   "execution_count": 17,
   "metadata": {},
   "outputs": [
    {
     "data": {
      "image/png": "[encoded data removed]",
      "text/plain": [
       "<Figure size 432x288 with 1 Axes>"
      ]
     },
     "metadata": {
      "needs_background": "light"
     },
     "output_type": "display_data"
    }
   ],
   "source": [
    "# try to plor an histo with the Scott's and Freedman-Diaconis rules:\n",
    "\n",
    "_ = fancyhist(M_irr_distr_np, bins=\"scott\", histtype=\"step\",density=True,label='Scott binning')\n",
    "_ = fancyhist(M_irr_distr_np, bins=\"freedman\", histtype=\"step\",density=True,label='FD binning')\n",
    "\n",
    "plt.title(r'$M_{irr}$ distribution')\n",
    "plt.xlabel(r'$M_{irr}$')\n",
    "plt.ylabel('counts')\n",
    "plt.legend(loc='upper left')\n",
    "plt.show()"
   ]
  },
  {
   "cell_type": "markdown",
   "metadata": {},
   "source": [
    "3. Using the same samples, plot the distribution of $M_{\\rm irr}$ using a KDE."
   ]
  },
  {
   "cell_type": "code",
   "execution_count": 18,
   "metadata": {},
   "outputs": [],
   "source": [
    "xgrid = np.linspace(M_irr_distr_np.min(),M_irr_distr_np.max(),N)  # Use this instead of 'x' for plotting\n",
    "\n",
    "def kde_sklearn(data, bandwidth = 1.0, kernel=\"linear\"):\n",
    "    kde_skl = KernelDensity(bandwidth = bandwidth, \n",
    "                            kernel=kernel)\n",
    "    kde_skl.fit(data[:, np.newaxis])\n",
    "    log_pdf = kde_skl.score_samples(xgrid[:, np.newaxis]) # sklearn returns log(density)\n",
    "\n",
    "    return np.exp(log_pdf)"
   ]
  },
  {
   "cell_type": "code",
   "execution_count": 27,
   "metadata": {},
   "outputs": [
    {
     "data": {
      "image/png": "[encoded data removed]",
      "text/plain": [
       "<Figure size 432x288 with 1 Axes>"
      ]
     },
     "metadata": {
      "needs_background": "light"
     },
     "output_type": "display_data"
    }
   ],
   "source": [
    "bdw = 0.01\n",
    "gauss_kde = kde_sklearn(M_irr_distr_np,bandwidth=bdw,kernel=\"gaussian\") \n",
    "plt.plot(xgrid,gauss_kde,label='bdw=%.2f'%bdw) \n",
    "plt.title(r'$M_{irr}$ distribution KDE')\n",
    "plt.xlabel(r'$M_{irr}$')\n",
    "plt.ylabel('KDE')\n",
    "plt.legend(loc='upper left')\n",
    "plt.show()"
   ]
  },
  {
   "cell_type": "markdown",
   "metadata": {},
   "source": [
    "4. Compute the KS distance between ${M_{\\rm irr}}$ and ${f}$ as a function of $\\sigma$. Discuss the limits at large and small values of $\\sigma$. \n",
    "\n",
    "5. Compute the KS distance between ${M_{\\rm irr}}$ and $M$ as a function of $\\sigma$. Discuss the limits at large and small values of $\\sigma$.\n",
    "\n",
    "6. You should find that (i) $M_{\\rm irr}$ is distributed like $f$ if ${\\sigma}\\ll \\mu$ and (ii) $M_{\\rm irr}$ is distributed like $M$ if  $\\sigma\\gg \\mu$.\n",
    "\n",
    "\n",
    "\n",
    "The KS test is based on a statistic that measures the maximum difference in the cdfs of our two samples\n",
    "\n",
    "$$ D = \\mathrm{max}|F_1(x1) - F_2(x2)|$$\n",
    "\n",
    "where $0\\leq D\\leq 1$. \n",
    "\n",
    "> The core idea is to know how often the value of $D$ computed from our data would arise by chance if both samples were drawn from the same distribution (which is our *null hypothesis* here). \n",
    "\n",
    "The probability of obtaining a value of $D$ larger than that observed in our data is\n",
    "\n",
    "$$ Q_\\mathrm{KS}(\\lambda) = 2\\sum_{k=1}^\\infty (-1)^{k-1}\\exp(-2k^2\\lambda^2)$$\n",
    "\n",
    "where \n",
    "\n",
    "$$\\lambda = \\left(0.12 + \\sqrt{n_e} + \\frac{0.11}{\\sqrt{n_e}} \\right)D $$\n",
    "\n",
    "and the ***effective number of data points***, $n_e$, is\n",
    "\n",
    "$$ n_e = \\left( \\frac{1}{N_1} + \\frac{1}{N_2}\\right)^{-1} = \\frac{N_1 N_2}{N_1 + N_2}$$\n",
    "\n",
    "If the probability that $D$ were drawn by chance is very small (low $p$-value) then we can reject the null hypothesis that the two samples were drawn from the same distribution.\n",
    "\n",
    "For large $n_e$ we have $\\lambda\\approx\\sqrt{n_e}D$. In fact, for $n_e>10$ we can bypass $Q_\\mathrm{KS}$ entirely and **compute the value of D that would correspond to a given significance level $\\alpha$**,\n",
    "\n",
    "$$ D_\\mathrm{KS} = \\frac{C(\\alpha)}{\\sqrt{n_e}}$$\n",
    "\n",
    "where $C(\\alpha) = \\sqrt{-\\frac{1}{2}\\ln(\\alpha/2)}$. "
   ]
  },
  {
   "cell_type": "code",
   "execution_count": 41,
   "metadata": {},
   "outputs": [
    {
     "data": {
      "text/plain": [
       "[0.001, 0.01, 0.1, 1, 10]"
      ]
     },
     "execution_count": 41,
     "metadata": {},
     "output_type": "execute_result"
    }
   ],
   "source": [
    "sigmas"
   ]
  },
  {
   "cell_type": "code",
   "execution_count": 49,
   "metadata": {},
   "outputs": [],
   "source": [
    "# sigma values:\n",
    "sigmas = np.array([0.001,0.01,0.1,1,10])\n",
    "mu = 1 # this is just a scale\n",
    "\n",
    "# compute KS distance for different values of sigma:\n",
    "D_KS_mIrr_f = []\n",
    "D_KS_mIrr_M = []\n",
    "for s in sigmas:\n",
    "    # generate data for chi and M:\n",
    "    chi_d = np.random.uniform(0,1,N)\n",
    "    M_d = np.random.normal(mu,s,N)\n",
    "\n",
    "    # extract the M_irr distribution:\n",
    "    M_irr_distr = []\n",
    "    f_distr = []\n",
    "    for M,chi in zip(M_d,chi_d):\n",
    "        M_irr_distr.append(M_irr(M,chi))\n",
    "        f_distr.append(f(M,chi))\n",
    "    \n",
    "    D_mIrr_f = max(abs(np.cumsum(M_irr_distr) - np.cumsum(f_distr)))\n",
    "    D_mIrr_M = max(abs(np.cumsum(M_irr_distr) - np.cumsum(M_d)))\n",
    "    \n",
    "    D_KS_mIrr_f.append(D_mIrr_f)\n",
    "    D_KS_mIrr_M.append(D_mIrr_M)"
   ]
  },
  {
   "cell_type": "code",
   "execution_count": 54,
   "metadata": {},
   "outputs": [
    {
     "data": {
      "text/plain": [
       "Text(0, 0.5, '$KS$ distance')"
      ]
     },
     "execution_count": 54,
     "metadata": {},
     "output_type": "execute_result"
    },
    {
     "data": {
      "image/png": "[encoded data removed]",
      "text/plain": [
       "<Figure size 432x288 with 1 Axes>"
      ]
     },
     "metadata": {
      "needs_background": "light"
     },
     "output_type": "display_data"
    }
   ],
   "source": [
    "plt.scatter(sigmas,D_KS_mIrr_f,label='$D_{KS}(M_{irr},f)$')\n",
    "plt.plot(sigmas,D_KS_mIrr_f)\n",
    "\n",
    "plt.scatter(sigmas,D_KS_mIrr_M,label='$D_{KS}(M_{irr},M)$')\n",
    "plt.plot(sigmas,D_KS_mIrr_M)\n",
    "\n",
    "plt.loglog()\n",
    "plt.legend()\n",
    "plt.title(r'$KS$ distance for $M_{irr}$ distribution as a function of $\\sigma$')\n",
    "plt.xlabel(r'$\\sigma$')\n",
    "plt.ylabel(r'$KS$ distance')"
   ]
  },
  {
   "cell_type": "code",
   "execution_count": null,
   "metadata": {},
   "outputs": [],
   "source": []
  },
  {
   "cell_type": "markdown",
   "metadata": {},
   "source": [
    "7. Compute the pdfs of $M_{\\rm irr}$ from their mathematical definitions, plot them, and check they agree with your KDE.\n",
    "\n",
    "*Hint (for point 7 above)*: First compute the pdf of $f$, that is just a change of variable. We saw how to do this in a previous lecture. The answer is:\n",
    "\\begin{equation}\n",
    "\\pi(f) = 2\\frac{2 f^2-1}{\\sqrt{1 - f^2}}\\,.\n",
    "\\end{equation}\n",
    "\n",
    "*Another hint (still for point 7 above)*: Then compute the pdf of $M_{\\rm irr}$, you want to use [this theorem](https://en.wikipedia.org/wiki/Distribution_of_the_product_of_two_random_variables) for the product of two random variables. The answer is only semi-analytic (unless you know how to solve that integral? If so please tell me!)\n",
    "\\begin{equation}\n",
    "p(M_{\\rm irr})  = \\frac{\\sqrt{2/\\pi}}{\\sigma} \\int_{1/\\sqrt{2}}^1 \\exp\\left[{-\\frac{(M_{\\rm irr}/f -\\mu)^2}{2\\sigma^2}}\\right]  \\frac{2 f^2-1}{f \\sqrt{1 - f^2}}  \\,\\, {\\rm d}f\\,. \\label{pmirr}\n",
    "\\end{equation}\n",
    "This can be easily solved numerically.\n",
    "\n",
    "*Yet another hint:* If any any time you get lost in the calculation, it helps checking that your pdfs are normalized as they should."
   ]
  },
  {
   "cell_type": "code",
   "execution_count": null,
   "metadata": {},
   "outputs": [],
   "source": []
  }
 ],
 "metadata": {
  "kernelspec": {
   "display_name": "Python 3",
   "language": "python",
   "name": "python3"
  },
  "language_info": {
   "codemirror_mode": {
    "name": "ipython",
    "version": 3
   },
   "file_extension": ".py",
   "mimetype": "text/x-python",
   "name": "python",
   "nbconvert_exporter": "python",
   "pygments_lexer": "ipython3",
   "version": "3.8.5"
  }
 },
 "nbformat": 4,
 "nbformat_minor": 4
}
