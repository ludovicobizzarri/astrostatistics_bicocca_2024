{
 "cells": [
  {
   "cell_type": "markdown",
   "metadata": {},
   "source": [
    "## Bayes' Theorem Example: Monty Hall Problem (or \"Deal Or No Deal\") <a class=\"anchor\" id=\"five\"></a>\n",
    "\n",
    "A very famous stats mind trick... You might have seen this already.\n",
    "\n",
    "The [Monty Hall Problem](https://en.wikipedia.org/wiki/Monty_Hall_problem) was originally posed (and solved) in a letter by Steve Selvin to the American Statistician in [1975](https://www.tandfonline.com/doi/abs/10.1080/00031305.1975.10479121). It became famous as a question from reader Craig F. Whitaker's letter quoted in Marilyn vos Savant's \"Ask Marilyn\" column in Parade magazine in 1990\n",
    "\n",
    "\n",
    "You are playing a TV game show and are shown 2 doors.  One has a car behind it, the other a goat.  What are your chances of picking the door with the car?"
   ]
  },
  {
   "cell_type": "markdown",
   "metadata": {},
   "source": [
    "OK, now there are 3 doors: one with a car, two with goats.  The game show host asks you to pick a door, but not to open it yet.  Then the host opens one of the other two doors (that you did not pick) and that has a goat.  The host offers you the opportunity to switch doors.\n",
    "\n",
    "- One player decides to switch\n",
    "- Another player prefers to stay with the previous choice\n",
    " \n",
    "![https://upload.wikimedia.org/wikipedia/commons/thumb/3/3f/Monty_open_door.svg/180px-Monty_open_door.svg.png](https://upload.wikimedia.org/wikipedia/commons/thumb/3/3f/Monty_open_door.svg/180px-Monty_open_door.svg.png)\n",
    "\n",
    "- Now a third player comes in who has not seen what happened earlier. They pick a door.\n",
    "\n",
    "*Which of the three players is most likely to win?*\n",
    "\n",
    "You might know or remember the answer already... but don't think now! **Let's simulate it**. \n"
   ]
  },
  {
   "cell_type": "markdown",
   "metadata": {},
   "source": [
    "### Simulate the Monty Hall Problem\n",
    "\n",
    "- Simulate three doors, one car, and two goats.\n",
    " - Simulate three players: the switcher, the conservative, and the newcomer. \n",
    " - Record who wins.\n",
    " - Repeat it many times.\n",
    " - Which player do you want to be?\n"
   ]
  },
  {
   "cell_type": "code",
   "execution_count": 132,
   "metadata": {},
   "outputs": [],
   "source": [
    "import numpy as np\n",
    "import matplotlib.pyplot as plt\n",
    "from tqdm import tqdm"
   ]
  },
  {
   "cell_type": "code",
   "execution_count": 106,
   "metadata": {},
   "outputs": [
    {
     "data": {
      "text/plain": [
       "array([0, 2], dtype=int64)"
      ]
     },
     "execution_count": 106,
     "metadata": {},
     "output_type": "execute_result"
    }
   ],
   "source": [
    "np.where((doors_idx!=car_idx))[0]"
   ]
  },
  {
   "cell_type": "code",
   "execution_count": 139,
   "metadata": {},
   "outputs": [
    {
     "name": "stdout",
     "output_type": "stream",
     "text": [
      "switcher 39.26\n",
      "conservative 32.99\n",
      "newcome 49.74\n"
     ]
    },
    {
     "data": {
      "text/plain": [
       "Text(0.5, 1.0, '3 doors Monty Hall Problem: $N_{iteration}=1.0e+04$')"
      ]
     },
     "execution_count": 139,
     "metadata": {},
     "output_type": "execute_result"
    },
    {
     "data": {
      "image/png": "[encoded data removed]",
      "text/plain": [
       "<Figure size 432x288 with 1 Axes>"
      ]
     },
     "metadata": {
      "needs_background": "light"
     },
     "output_type": "display_data"
    }
   ],
   "source": [
    "N_doors = 3\n",
    "N_iter = 10000\n",
    "\n",
    "switch = np.zeros(N_iter)\n",
    "cons = np.zeros(N_iter)\n",
    "newcome = np.zeros(N_iter)\n",
    "\n",
    "for i in range(N_iter):\n",
    "    doors_idx = np.arange(0,N_doors)\n",
    "    \n",
    "    # extract the index for the door with the car behind:\n",
    "    car_idx = np.random.choice(np.arange(0,N_doors))\n",
    "    \n",
    "    # initial choice:\n",
    "    init_door = np.random.choice(np.arange(0,N_doors))\n",
    "    \n",
    "    # opening of the third door:\n",
    "    if(init_door!=car_idx):\n",
    "        opened_door_idx = np.where((doors_idx!=car_idx)&(doors_idx!=init_door))[0][0]\n",
    "\n",
    "    if(init_door==car_idx):\n",
    "        opened_door_idx = np.random.choice(np.where((doors_idx!=car_idx))[0])\n",
    "        \n",
    "    doors_left_idx = np.delete(doors_idx, opened_door_idx)\n",
    "        \n",
    "     # final door's choice\n",
    "    switch_idx = np.where((doors_left_idx!=init_door))[0][0]\n",
    "    cons_idx = init_door\n",
    "    newcome_idx = np.random.choice(doors_left_idx)\n",
    "    \n",
    "    # increment if the door is the one with the car behind\n",
    "    if(switch_idx==car_idx):\n",
    "        switch[i] = 1\n",
    "        \n",
    "    if(cons_idx==car_idx):\n",
    "        cons[i] = 1\n",
    "        \n",
    "    if(newcome_idx==car_idx):\n",
    "        newcome[i] = 1\n",
    "      \n",
    "    \n",
    "# compute the total number of correct choice\n",
    "switch_result = np.sum(switch)\n",
    "cons_result = np.sum(cons)\n",
    "newcome_result = np.sum(newcome)\n",
    "\n",
    "# plot\n",
    "results = [switch_result,cons_result,newcome_result]\n",
    "x_pos = ['switcher', 'conservative', 'newcome']\n",
    "colors = ['blue', 'orange', 'green']\n",
    "#label = ['switcher', 'conservative', 'newcome']\n",
    "\n",
    "for i in range(len(results)):\n",
    "    plt.bar(x_pos[i],results[i]/N_iter*100,width=0.5,color=colors[i])\n",
    "    print(x_pos[i], results[i]/N_iter*100)\n",
    "    \n",
    "    \n",
    "plt.ylabel(r'% of success')\n",
    "plt.title(r'%i doors Monty Hall Problem: $N_{iteration}=%.1e$'%(N_doors,N_iter))"
   ]
  },
  {
   "cell_type": "code",
   "execution_count": null,
   "metadata": {},
   "outputs": [],
   "source": []
  },
  {
   "cell_type": "markdown",
   "metadata": {},
   "source": [
    "- What would happen if you had 100 doors to choose from and the presenter opens 98 or them?"
   ]
  },
  {
   "cell_type": "code",
   "execution_count": 140,
   "metadata": {},
   "outputs": [
    {
     "name": "stdout",
     "output_type": "stream",
     "text": [
      "Percentage of success:\n",
      "switcher 1.04\n",
      "conservative 0.9400000000000001\n",
      "newcome 50.41\n"
     ]
    },
    {
     "data": {
      "text/plain": [
       "Text(0.5, 1.0, '100 doors Monty Hall Problem: $N_{iteration}=1.0e+04$')"
      ]
     },
     "execution_count": 140,
     "metadata": {},
     "output_type": "execute_result"
    },
    {
     "data": {
      "image/png": "[encoded data removed]",
      "text/plain": [
       "<Figure size 432x288 with 1 Axes>"
      ]
     },
     "metadata": {
      "needs_background": "light"
     },
     "output_type": "display_data"
    }
   ],
   "source": [
    "N_doors = 100\n",
    "N_iter = 10000\n",
    "\n",
    "switch = np.zeros(N_iter)\n",
    "cons = np.zeros(N_iter)\n",
    "newcome = np.zeros(N_iter)\n",
    "\n",
    "for i in range(N_iter):\n",
    "    doors_idx = np.arange(0,N_doors)\n",
    "    \n",
    "    # extract the index for the door with the car behind:\n",
    "    car_idx = np.random.choice(np.arange(0,N_doors))\n",
    "    \n",
    "    # initial choice:\n",
    "    init_door = np.random.choice(np.arange(0,N_doors))\n",
    "    \n",
    "    # opening of the third door:\n",
    "    if(init_door!=car_idx): \n",
    "        opened_door_idx = np.where((doors_idx!=car_idx)&(doors_idx!=init_door))[0]\n",
    "\n",
    "    if(init_door==car_idx):\n",
    "        possible_open_idx = np.where((doors_idx!=car_idx))[0]\n",
    "        not_opened = np.random.choice(possible_open_idx[:-1])\n",
    "        opened_door_idx = np.delete(possible_open_idx,not_opened)\n",
    "        \n",
    "    doors_left_idx = np.delete(doors_idx, opened_door_idx)\n",
    "        \n",
    "     # final door's choice\n",
    "    switch_idx = np.where((doors_left_idx!=init_door))[0][0]\n",
    "    cons_idx = init_door\n",
    "    newcome_idx = np.random.choice(doors_left_idx)\n",
    "    \n",
    "    # increment if the door is the one with the car behind\n",
    "    if(switch_idx==car_idx):\n",
    "        switch[i] = 1\n",
    "        \n",
    "    if(cons_idx==car_idx):\n",
    "        cons[i] = 1\n",
    "        \n",
    "    if(newcome_idx==car_idx):\n",
    "        newcome[i] = 1\n",
    "      \n",
    "    \n",
    "# compute the total number of correct choice\n",
    "switch_result = np.sum(switch)\n",
    "cons_result = np.sum(cons)\n",
    "newcome_result = np.sum(newcome)\n",
    "\n",
    "\n",
    "\n",
    "# plot\n",
    "results = [switch_result,cons_result,newcome_result]\n",
    "x_pos = ['switcher', 'conservative', 'newcome']\n",
    "colors = ['blue', 'orange', 'green']\n",
    "#label = ['switcher', 'conservative', 'newcome']\n",
    "\n",
    "print('Percentage of success:')\n",
    "for i in range(len(results)):\n",
    "    plt.bar(x_pos[i],results[i]/N_iter*100,width=0.5,color=colors[i])\n",
    "    print(x_pos[i], results[i]/N_iter*100)\n",
    "    \n",
    "    \n",
    "plt.ylabel(r'% of success')\n",
    "plt.title(r'%i doors Monty Hall Problem: $N_{iteration}=%.1e$'%(N_doors,N_iter))"
   ]
  },
  {
   "cell_type": "code",
   "execution_count": null,
   "metadata": {},
   "outputs": [],
   "source": []
  },
  {
   "cell_type": "markdown",
   "metadata": {},
   "source": [
    "- And what if you had $N$ doors to choose from and the presenter opens $M\\leq N-2$ of them? Study how the probability of winning changes as a function of $M$ and $N$."
   ]
  },
  {
   "cell_type": "code",
   "execution_count": 145,
   "metadata": {},
   "outputs": [
    {
     "name": "stderr",
     "output_type": "stream",
     "text": [
      "100%|██████████| 8/8 [00:06<00:00,  1.18it/s]\n"
     ]
    },
    {
     "data": {
      "text/plain": [
       "<matplotlib.legend.Legend at 0x1dbf2619040>"
      ]
     },
     "execution_count": 145,
     "metadata": {},
     "output_type": "execute_result"
    },
    {
     "data": {
      "image/png": "[encoded data removed]",
      "text/plain": [
       "<Figure size 432x288 with 1 Axes>"
      ]
     },
     "metadata": {
      "needs_background": "light"
     },
     "output_type": "display_data"
    }
   ],
   "source": [
    "N_doors = [3,5,10,50,100,250,500,1000]\n",
    "N_iter = 10000\n",
    "\n",
    "switch_result = np.zeros(len(N_doors))\n",
    "cons_result = np.zeros(len(N_doors))\n",
    "newcome_result = np.zeros(len(N_doors))\n",
    "\n",
    "# iterate over different possible number of doors\n",
    "for j in tqdm(range(len(N_doors))):\n",
    "    \n",
    "    switch = np.zeros(N_iter)\n",
    "    cons = np.zeros(N_iter)\n",
    "    newcome = np.zeros(N_iter)\n",
    "\n",
    "    for i in range(N_iter):\n",
    "        doors_idx = np.arange(0,N_doors[j])\n",
    "    \n",
    "        # extract the index for the door with the car behind:\n",
    "        car_idx = np.random.choice(np.arange(0,N_doors[j]))\n",
    "    \n",
    "        # initial choice:\n",
    "        init_door = np.random.choice(np.arange(0,N_doors[j]))\n",
    "    \n",
    "        # opening of the third door:\n",
    "        if(init_door!=car_idx): \n",
    "            opened_door_idx = np.where((doors_idx!=car_idx)&(doors_idx!=init_door))[0]\n",
    "\n",
    "        if(init_door==car_idx):\n",
    "            possible_open_idx = np.where((doors_idx!=car_idx))[0]\n",
    "            not_opened = np.random.choice(possible_open_idx[:-1])\n",
    "            opened_door_idx = np.delete(possible_open_idx,not_opened)\n",
    "        \n",
    "        doors_left_idx = np.delete(doors_idx, opened_door_idx)\n",
    "        \n",
    "         # final door's choice\n",
    "        switch_idx = np.where((doors_left_idx!=init_door))[0][0]\n",
    "        cons_idx = init_door\n",
    "        newcome_idx = np.random.choice(doors_left_idx)\n",
    "    \n",
    "        # increment if the door is the one with the car behind\n",
    "        if(switch_idx==car_idx):\n",
    "            switch[i] = 1\n",
    "        \n",
    "        if(cons_idx==car_idx):\n",
    "            cons[i] = 1\n",
    "        \n",
    "        if(newcome_idx==car_idx):\n",
    "            newcome[i] = 1\n",
    "      \n",
    "    \n",
    "    # compute the total number of correct choice\n",
    "    switch_result[j] = np.sum(switch)\n",
    "    cons_result[j] = np.sum(cons)\n",
    "    newcome_result[j] = np.sum(newcome)\n",
    "\n",
    "# plot\n",
    "\n",
    "plt.plot(N_doors,switch_result/N_iter*100)\n",
    "plt.scatter(N_doors,switch_result/N_iter*100,label='switcher')\n",
    "\n",
    "plt.plot(N_doors,cons_result/N_iter*100)\n",
    "plt.scatter(N_doors,cons_result/N_iter*100,label='conservative')\n",
    "\n",
    "plt.plot(N_doors,newcome_result/N_iter*100)\n",
    "plt.scatter(N_doors,newcome_result/N_iter*100,label='newcome')\n",
    "\n",
    "plt.xscale('log')\n",
    "plt.xlabel(r'$N_{doors}$')\n",
    "plt.ylabel(r'% of success')\n",
    "plt.title(r'$N$ doors Monty Hall problem')\n",
    "\n",
    "plt.legend()"
   ]
  },
  {
   "cell_type": "code",
   "execution_count": null,
   "metadata": {},
   "outputs": [],
   "source": []
  }
 ],
 "metadata": {
  "kernelspec": {
   "display_name": "Python 3",
   "language": "python",
   "name": "python3"
  },
  "language_info": {
   "codemirror_mode": {
    "name": "ipython",
    "version": 3
   },
   "file_extension": ".py",
   "mimetype": "text/x-python",
   "name": "python",
   "nbconvert_exporter": "python",
   "pygments_lexer": "ipython3",
   "version": "3.8.5"
  }
 },
 "nbformat": 4,
 "nbformat_minor": 4
}
