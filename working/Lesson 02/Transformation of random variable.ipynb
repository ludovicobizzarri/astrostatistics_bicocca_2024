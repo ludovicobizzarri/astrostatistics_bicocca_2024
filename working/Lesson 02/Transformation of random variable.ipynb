{
 "cells": [
  {
   "cell_type": "markdown",
   "metadata": {},
   "source": [
    "## Transformations of random variables"
   ]
  },
  {
   "cell_type": "markdown",
   "metadata": {},
   "source": [
    "If $x$ is a random variable then $f(x)$ is also a random variable for any function $f$.\n",
    "\n",
    "To transform probability distributions when taking functions of random variables, we can simply use conservation of dimensionless probability, i.e. \n",
    "\n",
    "$$\\mathrm{Prob}(x, x+dx) = \\mathrm{Prob}(y, y+dy)$$\n",
    "\n",
    "$$p(x)dx = p(y)dy.$$ \n",
    "\n",
    "where $y = f(x)$.\n",
    "\n",
    "Thus, $$p(y) = \\left|\\frac{dx}{dy}\\right| p(x)$$"
   ]
  },
  {
   "cell_type": "markdown",
   "metadata": {},
   "source": [
    "**EXAMPLE**\n",
    "\n",
    "* Let $x$ be a random variable drawn from a uniform distribution between $0$ and $1$. So $p(x) = 1/(1-0) = 1$.  \n",
    "* Let's transform to $y = e^x$.\n",
    "* So $p(y) = \\left|dy/dx\\right|^{-1}p(x) = 1/y$"
   ]
  },
  {
   "cell_type": "markdown",
   "metadata": {},
   "source": [
    "![https://www.astroml.org/_images/fig_transform_distribution_1.png](https://www.astroml.org/_images/fig_transform_distribution_1.png)"
   ]
  },
  {
   "cell_type": "markdown",
   "metadata": {},
   "source": [
    "### Pdf of the log\n",
    "1. Use `numpy` to draw $N$ (where $N$ is large...) random samples from a uniform distribution between $0.1$ and $10$, and store these samples as $x$.\n",
    "2. Use matplotlib to make a histogram of these samples.\n",
    "3. Compute the base-10 log of your array $x$, and store this as $y$.\n",
    "4. Make another histogram for $y$. Using the equation to transform probability distributions, write what the theoretical pdf of $y$ is, and overplot it onto your histogram.\n",
    "5. Compute the log of the mean of $x$ and the mean of $y$. Now compute the log of the median of $x$ and the median of $y$."
   ]
  },
  {
   "cell_type": "code",
   "execution_count": 1,
   "metadata": {},
   "outputs": [],
   "source": [
    "import numpy as np\n",
    "import matplotlib.pyplot as plt"
   ]
  },
  {
   "cell_type": "code",
   "execution_count": 51,
   "metadata": {},
   "outputs": [
    {
     "data": {
      "image/png": "[encoded data removed]",
      "text/plain": [
       "<Figure size 432x288 with 1 Axes>"
      ]
     },
     "metadata": {
      "needs_background": "light"
     },
     "output_type": "display_data"
    }
   ],
   "source": [
    "N = 10000 # number of samples\n",
    "\n",
    "# x limits\n",
    "x_min = 0.1\n",
    "x_max = 10\n",
    "# random sampling\n",
    "x = np.random.uniform(x_min,x_max,N) \n",
    "\n",
    "# theoretical pdf of x\n",
    "p_x = 1/(x_max-x_min)\n",
    "\n",
    "# plot \n",
    "plt.hist(x,density=True,bins=50,label=r'$x$ distribution')\n",
    "plt.plot(x,[p_x]*N,color='red',label=r'theoretical $p(x)$')\n",
    "\n",
    "plt.xlabel(r'x')\n",
    "plt.ylabel('counts')\n",
    "plt.title(r'$p(x)$')\n",
    "plt.legend()\n",
    "plt.show()"
   ]
  },
  {
   "cell_type": "code",
   "execution_count": 52,
   "metadata": {},
   "outputs": [
    {
     "data": {
      "image/png": "[encoded data removed]",
      "text/plain": [
       "<Figure size 432x288 with 1 Axes>"
      ]
     },
     "metadata": {
      "needs_background": "light"
     },
     "output_type": "display_data"
    }
   ],
   "source": [
    "y = np.log10(x) # compute the log in base 10 of x\n",
    "\n",
    "# theoretical pdf of y\n",
    "p_y = (10**y)*np.log(10)*p_x\n",
    "\n",
    "#plot\n",
    "plt.hist(y,density=True,bins=50,label=r'$y$ distribution')\n",
    "plt.plot(np.sort(y),p_y[np.argsort(y)],color='red',label=r'theoretical $p(y)$')\n",
    "plt.title(r'$p(y)$')\n",
    "plt.xlabel(r'$y$')\n",
    "plt.ylabel('counts')\n",
    "plt.show()"
   ]
  },
  {
   "cell_type": "code",
   "execution_count": 54,
   "metadata": {},
   "outputs": [
    {
     "name": "stdout",
     "output_type": "stream",
     "text": [
      "log(mean(x)): 0.70 ; mean(y): 0.58\n",
      "log(median(x)): 0.70 ; median(y): 0.70\n"
     ]
    }
   ],
   "source": [
    "# Compute the log of the mean of x and the mean of y. \n",
    "log_mean_x = np.log10(np.mean(x))\n",
    "mean_y = np.mean(y)\n",
    "\n",
    "print('log(mean(x)): %.2f ; mean(y): %.2f'%(log_mean_x,mean_y))\n",
    "\n",
    "# Now compute the log of the median of x and the median of y. \n",
    "log_median_x = np.log10(np.median(x))\n",
    "median_y = np.median(y)\n",
    "\n",
    "print('log(median(x)): %.2f ; median(y): %.2f'%(log_median_x,median_y))"
   ]
  },
  {
   "cell_type": "markdown",
   "metadata": {},
   "source": [
    "You should note that the means are different, but the medians (as it is a cumulative statistic) are the same. The mean is affected by the scale of the sample values, but the median only depends on the ordering of the samples. Monotonic transformations (like taking the log) do not change the ordering of samples."
   ]
  },
  {
   "cell_type": "code",
   "execution_count": null,
   "metadata": {},
   "outputs": [],
   "source": []
  }
 ],
 "metadata": {
  "kernelspec": {
   "display_name": "Python 3",
   "language": "python",
   "name": "python3"
  },
  "language_info": {
   "codemirror_mode": {
    "name": "ipython",
    "version": 3
   },
   "file_extension": ".py",
   "mimetype": "text/x-python",
   "name": "python",
   "nbconvert_exporter": "python",
   "pygments_lexer": "ipython3",
   "version": "3.8.5"
  }
 },
 "nbformat": 4,
 "nbformat_minor": 4
}
